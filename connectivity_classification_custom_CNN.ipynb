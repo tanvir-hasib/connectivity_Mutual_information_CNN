{
 "cells": [
  {
   "cell_type": "code",
   "execution_count": 1,
   "id": "bc864a79",
   "metadata": {},
   "outputs": [],
   "source": [
    "import os\n",
    "import torch\n",
    "import torch.nn as nn\n",
    "import torch.nn.functional as F\n",
    "from torch.utils.data import DataLoader\n",
    "from torch.utils.data import DataLoader, random_split\n",
    "from torchvision import datasets, transforms\n",
    "from sklearn.metrics import accuracy_score, roc_auc_score, f1_score, confusion_matrix, ConfusionMatrixDisplay, roc_curve, auc\n",
    "import matplotlib.pyplot as plt\n",
    "import numpy as np\n",
    "import cv2\n",
    "from PIL import Image"
   ]
  },
  {
   "cell_type": "code",
   "execution_count": 2,
   "id": "aa76e373",
   "metadata": {
    "scrolled": true
   },
   "outputs": [],
   "source": [
    "# Set device (GPU 1)\n",
    "torch.cuda.set_device(1)\n",
    "device = torch.device(\"cuda:1\" if torch.cuda.is_available() else \"cpu\")"
   ]
  },
  {
   "cell_type": "code",
   "execution_count": 3,
   "id": "d3824be9",
   "metadata": {},
   "outputs": [],
   "source": [
    "#Parameters\n",
    "img_rows, img_cols = 224, 224\n",
    "batch_size = 64\n",
    "n_epochs = 10"
   ]
  },
  {
   "cell_type": "code",
   "execution_count": 4,
   "id": "40d73211",
   "metadata": {},
   "outputs": [],
   "source": [
    "# Data transforms\n",
    "transform = transforms.Compose([\n",
    "    transforms.Resize((img_rows, img_cols)),\n",
    "    transforms.ToTensor()\n",
    "])"
   ]
  },
  {
   "cell_type": "code",
   "execution_count": 5,
   "id": "fa299fc1",
   "metadata": {},
   "outputs": [],
   "source": [
    "#Directory\n",
    "data_dir = r\"C:\\Users\\RTX2080Ti\\Desktop\\MSTC Conference\\All img\"\n",
    "full_dataset = datasets.ImageFolder(os.path.join(data_dir), transform=transform)"
   ]
  },
  {
   "cell_type": "code",
   "execution_count": 6,
   "id": "cac4b09b",
   "metadata": {},
   "outputs": [],
   "source": [
    "# Data split\n",
    "train_size = int(0.8 * len(full_dataset))\n",
    "val_size = len(full_dataset) - train_size\n",
    "train_dataset, val_dataset = random_split(full_dataset, [train_size, val_size])"
   ]
  },
  {
   "cell_type": "code",
   "execution_count": 7,
   "id": "857ff8c8",
   "metadata": {},
   "outputs": [],
   "source": [
    "# DataLoaders\n",
    "train_loader = DataLoader(train_dataset, batch_size=batch_size, shuffle=True)\n",
    "val_loader = DataLoader(val_dataset, batch_size=batch_size, shuffle=False)"
   ]
  },
  {
   "cell_type": "code",
   "execution_count": 8,
   "id": "f84594cf",
   "metadata": {},
   "outputs": [],
   "source": [
    "#CNN model\n",
    "class CNNModel(nn.Module):\n",
    "    def __init__(self):\n",
    "        super(CNNModel, self).__init__()\n",
    "        self.conv1 = nn.Conv2d(3, 32, kernel_size=5, padding=2)\n",
    "        self.conv2 = nn.Conv2d(32, 32, kernel_size=5, padding=2)\n",
    "        self.pool = nn.MaxPool2d(2, 2)\n",
    "        self.dropout = nn.Dropout(0.25)\n",
    "\n",
    "        self.conv3 = nn.Conv2d(32, 64, kernel_size=3, padding=1)\n",
    "        self.conv4 = nn.Conv2d(64, 64, kernel_size=3, padding=1)\n",
    "        self.conv5 = nn.Conv2d(64, 64, kernel_size=3, padding=1)\n",
    "\n",
    "        self.fc1 = nn.Linear(64 * (img_rows // 4) * (img_cols // 4), 64)\n",
    "        self.fc2 = nn.Linear(64, 1)\n",
    "\n",
    "    def forward(self, x):\n",
    "        x = F.relu(self.conv1(x))\n",
    "        x = F.relu(self.conv2(x))\n",
    "        x = self.pool(x)\n",
    "        x = self.dropout(x)\n",
    "\n",
    "        x = F.relu(self.conv3(x))\n",
    "        x = F.relu(self.conv4(x))\n",
    "        x = F.relu(self.conv5(x))\n",
    "        x = self.pool(x)\n",
    "        x = self.dropout(x)\n",
    "\n",
    "        x = torch.flatten(x, 1)\n",
    "        x = F.relu(self.fc1(x))\n",
    "        x = self.dropout(x)\n",
    "        x = torch.sigmoid(self.fc2(x))\n",
    "        return x"
   ]
  },
  {
   "cell_type": "code",
   "execution_count": 9,
   "id": "a5c4fd61",
   "metadata": {},
   "outputs": [],
   "source": [
    "# Instantiate model\n",
    "model = CNNModel().to(device)"
   ]
  },
  {
   "cell_type": "code",
   "execution_count": 10,
   "id": "472da849",
   "metadata": {},
   "outputs": [],
   "source": [
    "# Loss and optimizer\n",
    "criterion = nn.BCELoss()\n",
    "optimizer = torch.optim.Adam(model.parameters(), lr=0.001)"
   ]
  },
  {
   "cell_type": "code",
   "execution_count": 11,
   "id": "2282aac6",
   "metadata": {},
   "outputs": [
    {
     "name": "stdout",
     "output_type": "stream",
     "text": [
      "Epoch 1/10 | Train Loss: 0.4804 | Val Loss: 0.0513 | Val Acc: 0.9611 | AUC: 0.9978 | F1: 0.9604\n",
      "Epoch 2/10 | Train Loss: 0.1560 | Val Loss: 0.0235 | Val Acc: 0.9989 | AUC: 0.9997 | F1: 0.9990\n",
      "Epoch 3/10 | Train Loss: 0.1142 | Val Loss: 0.0165 | Val Acc: 0.9990 | AUC: 1.0000 | F1: 0.9990\n",
      "Epoch 4/10 | Train Loss: 0.0979 | Val Loss: 0.0108 | Val Acc: 0.9996 | AUC: 1.0000 | F1: 0.9996\n",
      "Epoch 5/10 | Train Loss: 0.1010 | Val Loss: 0.0094 | Val Acc: 0.9999 | AUC: 1.0000 | F1: 0.9999\n",
      "Epoch 6/10 | Train Loss: 0.0913 | Val Loss: 0.0097 | Val Acc: 0.9993 | AUC: 1.0000 | F1: 0.9993\n",
      "Epoch 7/10 | Train Loss: 0.0875 | Val Loss: 0.0083 | Val Acc: 0.9995 | AUC: 1.0000 | F1: 0.9995\n",
      "Epoch 8/10 | Train Loss: 0.0870 | Val Loss: 0.0120 | Val Acc: 0.9995 | AUC: 1.0000 | F1: 0.9996\n",
      "Epoch 9/10 | Train Loss: 0.0845 | Val Loss: 0.0075 | Val Acc: 0.9996 | AUC: 1.0000 | F1: 0.9996\n",
      "Epoch 10/10 | Train Loss: 0.1006 | Val Loss: 0.0079 | Val Acc: 0.9997 | AUC: 1.0000 | F1: 0.9997\n"
     ]
    }
   ],
   "source": [
    "train_losses = []\n",
    "val_losses = []\n",
    "\n",
    "for epoch in range(n_epochs):\n",
    "    # ---- Training ----\n",
    "    model.train()\n",
    "    running_loss = 0.0\n",
    "    for inputs, labels in train_loader:\n",
    "        inputs = inputs.to(device)\n",
    "        labels = labels.float().to(device).view(-1, 1)\n",
    "\n",
    "        optimizer.zero_grad()\n",
    "        outputs = model(inputs)\n",
    "        loss = criterion(outputs, labels)\n",
    "        loss.backward()\n",
    "        optimizer.step()\n",
    "        running_loss += loss.item()\n",
    "\n",
    "    epoch_train_loss = running_loss / len(train_loader)\n",
    "    train_losses.append(epoch_train_loss)\n",
    "\n",
    "    # ---- Validation ----\n",
    "    model.eval()\n",
    "    val_running_loss = 0.0\n",
    "    all_preds, all_labels = [], []\n",
    "    with torch.no_grad():\n",
    "        for inputs, labels in val_loader:\n",
    "            inputs = inputs.to(device)\n",
    "            labels = labels.float().to(device).view(-1, 1)\n",
    "            outputs = model(inputs)\n",
    "            loss = criterion(outputs, labels)\n",
    "            val_running_loss += loss.item()\n",
    "\n",
    "            # Collect predictions\n",
    "            all_preds.extend(outputs.cpu().numpy().flatten())\n",
    "            all_labels.extend(labels.cpu().numpy().flatten())\n",
    "\n",
    "    epoch_val_loss = val_running_loss / len(val_loader)\n",
    "    val_losses.append(epoch_val_loss)\n",
    "\n",
    "    # Compute metrics for validation\n",
    "    binary_preds = [1 if p > 0.5 else 0 for p in all_preds]\n",
    "    acc = accuracy_score(all_labels, binary_preds)\n",
    "    f1 = f1_score(all_labels, binary_preds)\n",
    "    fpr, tpr, _ = roc_curve(all_labels, all_preds)\n",
    "    roc_auc = auc(fpr, tpr)\n",
    "\n",
    "    print(f\"Epoch {epoch+1}/{n_epochs} | Train Loss: {epoch_train_loss:.4f} | \"\n",
    "          f\"Val Loss: {epoch_val_loss:.4f} | Val Acc: {acc:.4f} | \"\n",
    "          f\"AUC: {roc_auc:.4f} | F1: {f1:.4f}\")"
   ]
  },
  {
   "cell_type": "code",
   "execution_count": 12,
   "id": "b49901b6",
   "metadata": {},
   "outputs": [
    {
     "name": "stdout",
     "output_type": "stream",
     "text": [
      "\n",
      "Final Validation Results:\n",
      "Accuracy: 0.9997\n",
      "AUC: 1.0000\n",
      "F1 Score: 0.9997\n"
     ]
    }
   ],
   "source": [
    "# Results Evaluation\n",
    "model.eval()\n",
    "all_preds, all_labels = [], []\n",
    "with torch.no_grad():\n",
    "    for inputs, labels in val_loader:\n",
    "        inputs = inputs.to(device)\n",
    "        labels = labels.to(device)\n",
    "        outputs = model(inputs).cpu().numpy().flatten()\n",
    "        all_preds.extend(outputs)\n",
    "        all_labels.extend(labels.cpu().numpy().flatten())\n",
    "\n",
    "binary_preds = [1 if p > 0.5 else 0 for p in all_preds]\n",
    "\n",
    "# Compute metrics\n",
    "acc = accuracy_score(all_labels, binary_preds)\n",
    "f1 = f1_score(all_labels, binary_preds)\n",
    "fpr, tpr, _ = roc_curve(all_labels, all_preds)\n",
    "roc_auc = auc(fpr, tpr)\n",
    "\n",
    "print(\"\\nFinal Validation Results:\")\n",
    "print(f\"Accuracy: {acc:.4f}\")\n",
    "print(f\"AUC: {roc_auc:.4f}\")\n",
    "print(f\"F1 Score: {f1:.4f}\")"
   ]
  },
  {
   "cell_type": "code",
   "execution_count": 13,
   "id": "11b68d37",
   "metadata": {},
   "outputs": [
    {
     "data": {
      "image/png": "[encoded data removed]",
      "text/plain": [
       "<Figure size 800x600 with 1 Axes>"
      ]
     },
     "metadata": {},
     "output_type": "display_data"
    }
   ],
   "source": [
    "# ---- Plotting Loss Curves ----\n",
    "plt.figure(figsize=(8, 6))\n",
    "plt.plot(train_losses, label=\"Training Loss\")\n",
    "plt.plot(val_losses, label=\"Validation Loss\")\n",
    "plt.xlabel(\"Epoch\")\n",
    "plt.ylabel(\"Loss\")\n",
    "plt.title(\"Training vs Validation Loss\")\n",
    "plt.legend()\n",
    "plt.grid(True)\n",
    "plt.show()"
   ]
  },
  {
   "cell_type": "code",
   "execution_count": 15,
   "id": "e998ff60",
   "metadata": {},
   "outputs": [
    {
     "data": {
      "image/png": "[encoded data removed]",
      "text/plain": [
       "<Figure size 640x480 with 2 Axes>"
      ]
     },
     "metadata": {},
     "output_type": "display_data"
    }
   ],
   "source": [
    "# Plot Confusion Matrix\n",
    "cm = confusion_matrix(all_labels, binary_preds)\n",
    "\n",
    "# Use the original dataset (ImageFolder) to get class names\n",
    "disp = ConfusionMatrixDisplay(confusion_matrix=cm, display_labels=full_dataset.classes)\n",
    "\n",
    "disp.plot(cmap=plt.cm.Blues)\n",
    "plt.title(\"Confusion Matrix\")\n",
    "plt.grid(False)\n",
    "plt.show()"
   ]
  },
  {
   "cell_type": "code",
   "execution_count": 18,
   "id": "6037f5fc",
   "metadata": {},
   "outputs": [
    {
     "name": "stdout",
     "output_type": "stream",
     "text": [
      "Precision: 0.9999\n",
      "Recall: 0.9996\n",
      "\n",
      "Classification Report:\n",
      "              precision    recall  f1-score   support\n",
      "\n",
      "     control       1.00      1.00      1.00      6424\n",
      "          pd       1.00      1.00      1.00      6670\n",
      "\n",
      "    accuracy                           1.00     13094\n",
      "   macro avg       1.00      1.00      1.00     13094\n",
      "weighted avg       1.00      1.00      1.00     13094\n",
      "\n"
     ]
    }
   ],
   "source": [
    "from sklearn.metrics import precision_score, recall_score, classification_report\n",
    "\n",
    "# Precision and Recall\n",
    "precision = precision_score(all_labels, binary_preds)\n",
    "recall = recall_score(all_labels, binary_preds)\n",
    "\n",
    "print(f\"Precision: {precision:.4f}\")\n",
    "print(f\"Recall: {recall:.4f}\")\n",
    "print(\"\\nClassification Report:\")\n",
    "print(classification_report(all_labels, binary_preds, target_names=full_dataset.classes))"
   ]
  },
  {
   "cell_type": "code",
   "execution_count": 17,
   "id": "eccc6b20",
   "metadata": {},
   "outputs": [],
   "source": [
    "torch.save(model.state_dict(), 'model.pth')"
   ]
  }
 ],
 "metadata": {
  "kernelspec": {
   "display_name": "Python 3 (ipykernel)",
   "language": "python",
   "name": "python3"
  },
  "language_info": {
   "codemirror_mode": {
    "name": "ipython",
    "version": 3
   },
   "file_extension": ".py",
   "mimetype": "text/x-python",
   "name": "python",
   "nbconvert_exporter": "python",
   "pygments_lexer": "ipython3",
   "version": "3.10.7"
  }
 },
 "nbformat": 4,
 "nbformat_minor": 5
}
